{
 "cells": [
  {
   "attachments": {},
   "cell_type": "markdown",
   "metadata": {},
   "source": [
    "## To-do List\n",
    "- Import necessaries libraries\n",
    "- Put our API from google\n",
    "- Connect to map_client, give query and distance\n",
    "- Run the script\n",
    "- in the 'results' only get the neccessary columns\n",
    "- Run the Script\n",
    "- Get the results and append it as a dataframe\n",
    "- Still learning to filll out the places id from the result we append, then use the list of place id to filter it from running again (still failed)\n",
    "- drop duplicates if any\n",
    "- import to CSV to be visualized\n"
   ]
  },
  {
   "cell_type": "code",
   "execution_count": 1,
   "metadata": {},
   "outputs": [],
   "source": [
    "import googlemaps\n",
    "import pandas as pd\n",
    "import pickle\n",
    "import time\n",
    "from pandas import json_normalize\n",
    "import requests"
   ]
  },
  {
   "cell_type": "code",
   "execution_count": 2,
   "metadata": {},
   "outputs": [],
   "source": [
    "api_key = 'insert your apis'\n",
    "map_client = googlemaps.Client(api_key)\n",
    "locations = [] # add your langtitude, longtitude\n",
    "# locations = [(-8.68525, 115.20442),(-8.20001, 113.64362)\n",
    "#              ,(-7.96529, 112.63065),(-7.2895, 112.71629),(-7.82088, 111.98943),(-7.56964, 110.8071),(-7.78337, 110.3836), (-7.13973, 110.42268),(-7.46906, 109.28698)]\n",
    "# Bali > Jember > Malang > Surabaya > Kediri > Surakarta > Yogyakarta > Semarang > Purwokerto\n",
    "\n",
    "search_str='mixue OR Mixue OR MIXUE'\n",
    "distance = 50000 #in metres\n"
   ]
  },
  {
   "cell_type": "code",
   "execution_count": 6,
   "metadata": {},
   "outputs": [],
   "source": [
    "# Replace YOUR_API_KEY with your actual API key\n",
    "gmaps = googlemaps.Client(key='insert your apis')\n",
    "\n",
    "# Set the type of place to Mixue\n",
    "place_type = 'Mixue'\n",
    "\n",
    "# Set the list of locations to search\n",
    "locations = [(-5.426112539367408, 105.25786398164121),(-2.9555158764720386, 104.76495584674291),(-1.5820630973021552, 103.60401718195902),(0.5185930176320304, 101.42421553886894),(3.5930341821817064, 98.67437858620407),(1.0810415713289183, 104.00798092002987),(-1.619477308647127, 103.60010883810612),(0.5560670951166239, 123.04924359319672),(-5.152025364571885, 119.41903718065586),(-4.447843694480461, 120.3097566625435),(-0.9564194116204323, 119.88662739556123),(-0.9583603765210935, 122.78525219960646)]\n",
    "\n",
    "# Create an empty list to store the results\n",
    "results = []\n",
    "\n",
    "# Loop through the list of locations\n",
    "for location in locations:\n",
    "  # Initialize the page token\n",
    "  page_token = None\n",
    "  # Set a flag to check if there are more pages\n",
    "  more_pages = True\n",
    "  # Loop through the pages of results\n",
    "  while more_pages:\n",
    "    # Search for Mixue places in the location\n",
    "    places = gmaps.places(query=place_type, location=location, page_token=page_token,radius=50000)\n",
    "    # Loop through the search results\n",
    "    for place in places['results']:\n",
    "      # Get the detailed information for each place\n",
    "      branch = gmaps.place(place_id=place['place_id'])['result']\n",
    "      results.append(branch)\n",
    "    # Update the page token and check if there are more pages\n",
    "    page_token = places.get('next_page_token')\n",
    "    more_pages = page_token is not None\n"
   ]
  },
  {
   "cell_type": "code",
   "execution_count": 7,
   "metadata": {},
   "outputs": [
    {
     "data": {
      "text/plain": [
       "720"
      ]
     },
     "execution_count": 7,
     "metadata": {},
     "output_type": "execute_result"
    }
   ],
   "source": [
    "len(results)"
   ]
  },
  {
   "cell_type": "code",
   "execution_count": 8,
   "metadata": {},
   "outputs": [],
   "source": [
    "\n",
    "results_empty = []\n",
    "\n",
    "for item in results:\n",
    "    result = {}\n",
    "    result['business_status'] = item['business_status']\n",
    "    result['delivery'] = item.get('delivery', \"N/A\")\n",
    "    result['dine_in'] = item.get('dine_in', \"N/A\")\n",
    "    result['formatted_address'] = item['formatted_address']\n",
    "    for component in item['address_components']:\n",
    "        if 'administrative_area_level_1' in component['types']:\n",
    "            result['location'] = component['long_name']\n",
    "        elif 'administrative_area_level_2' in component['types']:\n",
    "            result['location2'] = component['long_name']\n",
    "        elif 'administrative_area_level_3' in component['types']:\n",
    "            result['location3'] = component['long_name']\n",
    "    result['formatted_phone_number'] = item.get('formatted_phone_number', \"N/A\")\n",
    "    result['lat'] = item['geometry']['location']['lat']\n",
    "    result['lng'] = item['geometry']['location']['lng']\n",
    "    result['name'] = item['name']\n",
    "    result['place_id'] = item['place_id']\n",
    "    result['price_level'] = item.get('price_level', \"N/A\")\n",
    "    result['rating'] = item.get('rating', \"N/A\")\n",
    "    result['url'] = item['url']\n",
    "    # Make a request to the Place Details endpoint to retrieve the user_ratings_total field\n",
    "    place_details_url = f\"https://maps.googleapis.com/maps/api/place/details/json?place_id={item['place_id']}&fields=user_ratings_total&key={api_key}\"\n",
    "    place_details_response = requests.get(place_details_url)\n",
    "    place_details_data = place_details_response.json()\n",
    "    # Add the user_ratings_total field to the result dictionary\n",
    "    result['user_ratings_total'] = place_details_data['result'].get('user_ratings_total', \"N/A\")\n",
    "    results_empty.append(result)\n",
    "\n",
    "df = pd.DataFrame(results_empty)\n"
   ]
  },
  {
   "cell_type": "code",
   "execution_count": 28,
   "metadata": {},
   "outputs": [
    {
     "data": {
      "text/html": [
       "<div>\n",
       "<style scoped>\n",
       "    .dataframe tbody tr th:only-of-type {\n",
       "        vertical-align: middle;\n",
       "    }\n",
       "\n",
       "    .dataframe tbody tr th {\n",
       "        vertical-align: top;\n",
       "    }\n",
       "\n",
       "    .dataframe thead th {\n",
       "        text-align: right;\n",
       "    }\n",
       "</style>\n",
       "<table border=\"1\" class=\"dataframe\">\n",
       "  <thead>\n",
       "    <tr style=\"text-align: right;\">\n",
       "      <th></th>\n",
       "      <th>business_status</th>\n",
       "      <th>delivery</th>\n",
       "      <th>dine_in</th>\n",
       "      <th>formatted_address</th>\n",
       "      <th>location3</th>\n",
       "      <th>location2</th>\n",
       "      <th>location</th>\n",
       "      <th>formatted_phone_number</th>\n",
       "      <th>lat</th>\n",
       "      <th>lng</th>\n",
       "      <th>name</th>\n",
       "      <th>place_id</th>\n",
       "      <th>price_level</th>\n",
       "      <th>rating</th>\n",
       "      <th>url</th>\n",
       "      <th>user_ratings_total</th>\n",
       "    </tr>\n",
       "  </thead>\n",
       "  <tbody>\n",
       "    <tr>\n",
       "      <th>715</th>\n",
       "      <td>OPERATIONAL</td>\n",
       "      <td>True</td>\n",
       "      <td>True</td>\n",
       "      <td>Jl. Ciremai Raya No.D15, Larangan, Kec. Harjam...</td>\n",
       "      <td>Kecamatan Harjamukti</td>\n",
       "      <td>Kota Cirebon</td>\n",
       "      <td>Jawa Barat</td>\n",
       "      <td>0819-0304-8999</td>\n",
       "      <td>-6.742784</td>\n",
       "      <td>108.563423</td>\n",
       "      <td>Mixue Ciremai</td>\n",
       "      <td>ChIJdWTX6cUdby4R82RVSxirwHA</td>\n",
       "      <td>2</td>\n",
       "      <td>4.7</td>\n",
       "      <td>https://maps.google.com/?cid=8124681848607827187</td>\n",
       "      <td>280</td>\n",
       "    </tr>\n",
       "    <tr>\n",
       "      <th>716</th>\n",
       "      <td>OPERATIONAL</td>\n",
       "      <td>True</td>\n",
       "      <td>True</td>\n",
       "      <td>Jl. Hasanudin No.A47, Panggung Lor, Kec. Semar...</td>\n",
       "      <td>Kecamatan Semarang Utara</td>\n",
       "      <td>Kota Semarang</td>\n",
       "      <td>Jawa Tengah</td>\n",
       "      <td>N/A</td>\n",
       "      <td>-6.960182</td>\n",
       "      <td>110.410648</td>\n",
       "      <td>Mixue Tanah Mas</td>\n",
       "      <td>ChIJKfu_KCX1cC4Rn3ssF4SE2m8</td>\n",
       "      <td>N/A</td>\n",
       "      <td>4.7</td>\n",
       "      <td>https://maps.google.com/?cid=8059900185992264607</td>\n",
       "      <td>188</td>\n",
       "    </tr>\n",
       "    <tr>\n",
       "      <th>717</th>\n",
       "      <td>OPERATIONAL</td>\n",
       "      <td>True</td>\n",
       "      <td>True</td>\n",
       "      <td>Jl. Raya Klp. Hybrida Blok PD14, RT.4/RW.18, P...</td>\n",
       "      <td>Kelapa Gading</td>\n",
       "      <td>North Jakarta City</td>\n",
       "      <td>Jakarta</td>\n",
       "      <td>0895-4013-68699</td>\n",
       "      <td>-6.148602</td>\n",
       "      <td>106.911145</td>\n",
       "      <td>Mixue Kelapa Gading Hybrida</td>\n",
       "      <td>ChIJZyLV65L1aS4RXz61rIvDih8</td>\n",
       "      <td>N/A</td>\n",
       "      <td>4.5</td>\n",
       "      <td>https://maps.google.com/?cid=2272843966627266143</td>\n",
       "      <td>153</td>\n",
       "    </tr>\n",
       "    <tr>\n",
       "      <th>718</th>\n",
       "      <td>OPERATIONAL</td>\n",
       "      <td>True</td>\n",
       "      <td>True</td>\n",
       "      <td>Jl. Kaliurang No.9,3, Gondangan, Sinduharjo, K...</td>\n",
       "      <td>Kecamatan Ngaglik</td>\n",
       "      <td>Kabupaten Sleman</td>\n",
       "      <td>Daerah Istimewa Yogyakarta</td>\n",
       "      <td>N/A</td>\n",
       "      <td>-7.727047</td>\n",
       "      <td>110.399304</td>\n",
       "      <td>Mixue Jakal</td>\n",
       "      <td>ChIJb2n89IRZei4R9zxsqAM9OEQ</td>\n",
       "      <td>N/A</td>\n",
       "      <td>4.6</td>\n",
       "      <td>https://maps.google.com/?cid=4915746079194758391</td>\n",
       "      <td>566</td>\n",
       "    </tr>\n",
       "    <tr>\n",
       "      <th>719</th>\n",
       "      <td>OPERATIONAL</td>\n",
       "      <td>True</td>\n",
       "      <td>True</td>\n",
       "      <td>Jl. Terusan Pasirkoja No.112, Jamika, Kec. Boj...</td>\n",
       "      <td>Kecamatan Bojongloa Kaler</td>\n",
       "      <td>Kota Bandung</td>\n",
       "      <td>Jawa Barat</td>\n",
       "      <td>0819-0110-0441</td>\n",
       "      <td>-6.925624</td>\n",
       "      <td>107.589274</td>\n",
       "      <td>Mixue Pasir Koja</td>\n",
       "      <td>ChIJs5V5H4TnaC4RdrEggq908CY</td>\n",
       "      <td>N/A</td>\n",
       "      <td>4.5</td>\n",
       "      <td>https://maps.google.com/?cid=2805870865003098486</td>\n",
       "      <td>191</td>\n",
       "    </tr>\n",
       "  </tbody>\n",
       "</table>\n",
       "</div>"
      ],
      "text/plain": [
       "    business_status delivery dine_in  \\\n",
       "715     OPERATIONAL     True    True   \n",
       "716     OPERATIONAL     True    True   \n",
       "717     OPERATIONAL     True    True   \n",
       "718     OPERATIONAL     True    True   \n",
       "719     OPERATIONAL     True    True   \n",
       "\n",
       "                                     formatted_address  \\\n",
       "715  Jl. Ciremai Raya No.D15, Larangan, Kec. Harjam...   \n",
       "716  Jl. Hasanudin No.A47, Panggung Lor, Kec. Semar...   \n",
       "717  Jl. Raya Klp. Hybrida Blok PD14, RT.4/RW.18, P...   \n",
       "718  Jl. Kaliurang No.9,3, Gondangan, Sinduharjo, K...   \n",
       "719  Jl. Terusan Pasirkoja No.112, Jamika, Kec. Boj...   \n",
       "\n",
       "                     location3           location2  \\\n",
       "715       Kecamatan Harjamukti        Kota Cirebon   \n",
       "716   Kecamatan Semarang Utara       Kota Semarang   \n",
       "717              Kelapa Gading  North Jakarta City   \n",
       "718          Kecamatan Ngaglik    Kabupaten Sleman   \n",
       "719  Kecamatan Bojongloa Kaler        Kota Bandung   \n",
       "\n",
       "                       location formatted_phone_number       lat         lng  \\\n",
       "715                  Jawa Barat         0819-0304-8999 -6.742784  108.563423   \n",
       "716                 Jawa Tengah                    N/A -6.960182  110.410648   \n",
       "717                     Jakarta        0895-4013-68699 -6.148602  106.911145   \n",
       "718  Daerah Istimewa Yogyakarta                    N/A -7.727047  110.399304   \n",
       "719                  Jawa Barat         0819-0110-0441 -6.925624  107.589274   \n",
       "\n",
       "                            name                     place_id price_level  \\\n",
       "715                Mixue Ciremai  ChIJdWTX6cUdby4R82RVSxirwHA           2   \n",
       "716              Mixue Tanah Mas  ChIJKfu_KCX1cC4Rn3ssF4SE2m8         N/A   \n",
       "717  Mixue Kelapa Gading Hybrida  ChIJZyLV65L1aS4RXz61rIvDih8         N/A   \n",
       "718                  Mixue Jakal  ChIJb2n89IRZei4R9zxsqAM9OEQ         N/A   \n",
       "719             Mixue Pasir Koja  ChIJs5V5H4TnaC4RdrEggq908CY         N/A   \n",
       "\n",
       "    rating                                               url  \\\n",
       "715    4.7  https://maps.google.com/?cid=8124681848607827187   \n",
       "716    4.7  https://maps.google.com/?cid=8059900185992264607   \n",
       "717    4.5  https://maps.google.com/?cid=2272843966627266143   \n",
       "718    4.6  https://maps.google.com/?cid=4915746079194758391   \n",
       "719    4.5  https://maps.google.com/?cid=2805870865003098486   \n",
       "\n",
       "    user_ratings_total  \n",
       "715                280  \n",
       "716                188  \n",
       "717                153  \n",
       "718                566  \n",
       "719                191  "
      ]
     },
     "execution_count": 28,
     "metadata": {},
     "output_type": "execute_result"
    }
   ],
   "source": [
    "df.tail(5)"
   ]
  },
  {
   "cell_type": "code",
   "execution_count": 10,
   "metadata": {},
   "outputs": [
    {
     "name": "stdout",
     "output_type": "stream",
     "text": [
      "433\n",
      "(720, 16)\n"
     ]
    }
   ],
   "source": [
    "print(df['place_id'].duplicated().sum())\n",
    "print(df.shape)"
   ]
  },
  {
   "cell_type": "code",
   "execution_count": 11,
   "metadata": {},
   "outputs": [],
   "source": [
    "df_no_duplicate = df.drop_duplicates()"
   ]
  },
  {
   "cell_type": "code",
   "execution_count": 35,
   "metadata": {},
   "outputs": [
    {
     "name": "stdout",
     "output_type": "stream",
     "text": [
      "433\n",
      "(287, 16)\n"
     ]
    }
   ],
   "source": [
    "print(df['place_id'].duplicated().sum())\n",
    "print(df_no_duplicate.shape)\n",
    "#after dropping duplicate"
   ]
  },
  {
   "cell_type": "code",
   "execution_count": 13,
   "metadata": {},
   "outputs": [],
   "source": [
    "df_no_duplicate.to_csv('saving-csv.csv')"
   ]
  }
 ],
 "metadata": {
  "kernelspec": {
   "display_name": "Python 3",
   "language": "python",
   "name": "python3"
  },
  "language_info": {
   "codemirror_mode": {
    "name": "ipython",
    "version": 3
   },
   "file_extension": ".py",
   "mimetype": "text/x-python",
   "name": "python",
   "nbconvert_exporter": "python",
   "pygments_lexer": "ipython3",
   "version": "3.10.4"
  },
  "orig_nbformat": 4,
  "vscode": {
   "interpreter": {
    "hash": "c306639ee32d404791473069f00ec2af6b0839684311cd4cb9a429487a8699f9"
   }
  }
 },
 "nbformat": 4,
 "nbformat_minor": 2
}
